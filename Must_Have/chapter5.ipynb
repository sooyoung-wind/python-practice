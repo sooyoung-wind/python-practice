{
 "cells": [
  {
   "cell_type": "markdown",
   "metadata": {},
   "source": [
    "## 목차\n",
    "1. [분류와 회귀](#분류와-회귀)  \n",
    "    1.1. [분류](#분류)  \n",
    "    1.2. [회귀](#회귀)  \n",
    "2. [분류 평가지표](#분류-평가지표)  \n",
    "    2.1. [오차 행렬(confusion matrix)](#오차-행렬confusion-matrix)  \n",
    "    2.2. [로그 손실](#로그-손실)  \n",
    "    2.3. [ROC 곡선과 AUC](#ROC-곡선과-AUC)  \n",
    "3. [데이터 인코딩](#데이터-인코딩)  \n",
    "    3.1. [레이블 인코딩](#레이블-인코딩)  \n",
    "    3.2. [오디널 인코딩](#오디널-인코딩)  \n",
    "    3.3. [원핫 인코딩](#원핫-인코딩)  \n",
    "4. [피쳐 스케일링](#피쳐-스케일링)  \n",
    "    4.1. [min-max 정규화(normalization)](#min-max-정규화normalization)  \n",
    "    4.2. [표준화(standardization)](#표준화standardization)  \n",
    "5. [교차 검증](#교차-검증)  \n",
    "    5.1. [K 폴드 교차 검증](#K-폴드-교차-검증)  \n",
    "    5.2. [층화 K 폴드 교차 검증](#층화-K-폴드-교차-검증)  \n",
    "6. [주요 머신러닝 모델](#주요-머신러닝-모델)  \n",
    "    6.1. [선형 회귀 모델](#선형-회귀-모델)  \n",
    "    6.2. [로지스틱 회귀 모델](#로지스틱-회귀-모델)  \n",
    "    6.3. [결정 트리](#결정-트리)  \n",
    "    6.4. [앙상블 학습](#앙상블-학습)  \n",
    "    6.5. [랜덤 포레스트](#랜덤-포레스트)  \n",
    "    6.6. [XGBoost](#XGBoost)  \n",
    "    6.7. [LightGBM](#LightGBM)  \n",
    "7. [하이퍼 파라미터 최적화](#하이퍼-파라미터-최적화)  \n",
    "    7.1. [그리드서치](#그리드서치)  \n",
    "    7.2. [랜덤서치](#랜덤서치)  \n",
    "    7.3. [베이지안 최적화](#베이지안-최적화) "
   ]
  },
  {
   "cell_type": "markdown",
   "metadata": {},
   "source": [
    "<a name=\"분류와-회귀\"></a>\n",
    "# 분류와 회귀"
   ]
  },
  {
   "cell_type": "markdown",
   "metadata": {},
   "source": [
    "캐글 경진대회는 대부분 분류나 회귀 문제를 다룬다. 타깃값이 범주형 데이터면 분류문제, 수치형이면 회귀 문제이다."
   ]
  },
  {
   "cell_type": "markdown",
   "metadata": {},
   "source": [
    "<a name=\"분류\"></a>\n",
    "## 분류\n",
    "책의 내용을 피처, IT 도서을 타깃을 비유함. 책을 분류하는 방법에 대한 설명\n",
    "\n",
    "### 5.1.1 분류\n",
    "이진 분류(binary clasification) : 타깃값이 2개인 분류\n",
    "다중 분류(multicalss classification) : 타깃값이 3개 이상인 분류\n",
    "\n",
    "### 5.1.2 회귀\n",
    "독립변수(independent variable) : 영향을 미치는 변수\n",
    "종속변수(dependent variable) : 영향을 받는 변수\n",
    "회귀란 독립변수와 종속변수 간 관계를 모델링하는 방법이다.\n",
    "\n",
    "선형회귀(simple linear regression) : y = ax + b\n",
    "다중 선형회귀(multiple linear regression) : y = ax + by + c\n",
    "\n",
    "### 자주 사용하는 회귀 평가지표\n",
    "- MAE : 평균절대오차\n",
    "- MSE : 평균제곱오차\n",
    "- RMSE : 평균제곱근 오차\n",
    "- MSLE : Mean Squared Log Error\n",
    "- RMSLE : Root Mean Squared Log Error\n",
    "- R^2 : 결정계수\n",
    "\n",
    "RMSE vs. RMSLE\n",
    "1. 아웃라이어에 강건하다. : 이상치 또는 아웃라이어가 있더라도 값의 변동폭이 크지 않다.\n",
    "2. 상대적 Error 측정 : 상대적 및 절대적 차이에 의해 RMSE는 변화하지만, RMSLE은 예측값과 실제값의 상대적 error를 측정한다.\n",
    " - 단, RMSLE의 한계는 예시로 돈 관련 문제에 적용할 때 1억과 100억의 오차와 1원과 100원의 오차 의미가 퇴색하게 된다.\n",
    "3. Under Estimation에 큰 패널티를 부여한다.\n",
    " - RMSLE는 over estimation보다 under estimation에 더 큰 패널티를 부여한다. 즉, 예측값이 실제보다 작을 때 더 큰 패널티를 부여한다.  \n",
    " - 예를 배달에서 30분이 걸린다고 했는데 20분이 걸리는건 문제가 없지만, 20분이 걸린다고 했는데 30분이 걸린다면 문제가 있다고 볼 수 있다.  "
   ]
  },
  {
   "cell_type": "markdown",
   "metadata": {},
   "source": [
    "|평가지표|수식|설명|\n",
    "|--|--|--|\n",
    "|MAE|$${1 \\over N} \\sum_{i=1}^N\\|y_i - \\hat{y_i}\\|$$||\n",
    "|MSE|$${1 \\over N} \\sum_{i=1}^N(y_i - \\hat{y_i})^2$$||\n",
    "|RMSE|$$\\sqrt{{1 \\over N} \\sum_{i=1}^N(y_i - \\hat{y_i})^2}$$||\n",
    "|MSLE|$${1 \\over N} \\sum_{i=1}^N(log(y_i+1)-log(\\hat{y_i}+1))^2$$|$$-\\infty$$를 방지하기 위하여 log에 +1을 취함|\n",
    "|RMSLE|$$\\sqrt{{1 \\over N} \\sum_{i=1}^N(log(y_i+1)-log(\\hat{y_i}+1))^2}$$|$$-\\infty$$를 방지하기 위하여 log에 +1을 취함|\n",
    "|$$R^2$$|$$ \\hat{\\sigma}^2 \\over {\\sigma}^2$$|1에 근첩하는게 정확도가 높음|  \n"
   ]
  },
  {
   "cell_type": "markdown",
   "metadata": {},
   "source": [
    "<a name=\"회귀\"></a>\n",
    "## 회귀"
   ]
  },
  {
   "cell_type": "code",
   "execution_count": 1,
   "metadata": {},
   "outputs": [
    {
     "name": "stdout",
     "output_type": "stream",
     "text": [
      "MAE:\t 0.8182\n",
      "MSE:\t 4.0909\n",
      "RMSE:\t 2.0226\n",
      "MSLE:\t 0.1298\n",
      "RMSLE:\t 0.3603\n",
      "R2:\t -0.0185\n"
     ]
    }
   ],
   "source": [
    "import numpy as np\n",
    "from sklearn.metrics import mean_absolute_error, mean_squared_error, mean_squared_log_error, r2_score\n",
    "\n",
    "true = np.array([1,2,3,4,5,7,8,6,4,4,3])\n",
    "pred = np.array([1,2,3,4,5,7,2,6,4,7,3])\n",
    "\n",
    "MAE = mean_absolute_error(true, pred)\n",
    "MSE = mean_squared_error(true, pred)\n",
    "RMSE = np.sqrt(MSE)\n",
    "MSLE = mean_squared_log_error(true, pred)\n",
    "RMSLE = np.sqrt(MSLE)\n",
    "R2 = r2_score(true, pred)\n",
    "\n",
    "print(f'MAE:\\t {MAE:.4f}')\n",
    "print(f'MSE:\\t {MSE:.4f}')\n",
    "print(f'RMSE:\\t {RMSE:.4f}')\n",
    "print(f'MSLE:\\t {MSLE:.4f}')\n",
    "print(f'RMSLE:\\t {RMSLE:.4f}')\n",
    "print(f'R2:\\t {R2:.4f}')"
   ]
  },
  {
   "cell_type": "markdown",
   "metadata": {},
   "source": [
    "<a name=\"분류-평가지표\"></a>\n",
    "# 분류 평가지표"
   ]
  },
  {
   "cell_type": "markdown",
   "metadata": {},
   "source": [
    "<a name=\"오차-행렬confusion-matrix\"></a>\n",
    "## 오차 행렬(confusion matrix)\n",
    "\n",
    "<table>\n",
    "  <tbody>\n",
    "    <tr>\n",
    "      <td></td>\n",
    "      <td></td>\n",
    "      <td>predict</td>\n",
    "    </tr>\n",
    "    <tr>\n",
    "      <td></td>\n",
    "      <td></td>\n",
    "      <td>positive</td>\n",
    "      <td>negative</td>\n",
    "    </tr>\n",
    "    <tr>\n",
    "      <td rowspan=\"2\">real</td>\n",
    "      <td>positive</td>\n",
    "      <td>TP</td>\n",
    "      <td>FN</td>\n",
    "    </tr>\n",
    "    <tr>\n",
    "      <td>negative</td>\n",
    "      <td>FP</td>\n",
    "      <td>TN</td>\n",
    "    </tr>\n",
    "  </tbody>\n",
    "</table>\n",
    "\n",
    "참 양성(True Positive, TP) : 양성으로 정답을 맞춘 경우  \n",
    "참 음성(True Negative, TN) : 음성으로 정답을 맞춘 경우  \n",
    "거짓 양성(False Positive, FP) : 양성으로 못 맞춘 경우  \n",
    "거짓 음성(False Negative, TN) : 음성으로 못 맞춘 경우  \n",
    "\n",
    "오차 행렬을 활용한 지표는 정확도, 정밀도, 재현율, F1 점수가 있다.  \n",
    "\n",
    "* 정확도(accuracy) : 정확도는 잘 쓰이지 않는다.  \n",
    "전체에서 True가 차지하는 비율  \n",
    "(*모델의 우수성을 따질때 잘 사용하지 않음)  \n",
    "$${TP+TN}\\over{TP+TN+FP+FN}$$\n",
    "\n",
    "* 정밀도(precision) : 정밀도는 음성을 양성으로 잘못 판단하면 문제가 발생하는 경우에 사용한다. 검출하기 원하는 상태를 보통 양성으로 정한다. 즉, 문제가 되는 상태를 양성, 정상인 상태를 음성이라고 본다.  \n",
    "Positive predict중의 True가 차지하는 비율  \n",
    "(*실제 negative가 positive로 측정되는것이 critical할때 사용)  \n",
    "$${TP}\\over{TP+FP}$$\n",
    "\n",
    "* 재현율(recall)(TPR) : 양성을 음성으로 잘못 판단하면 준제가 되는 경우에 사용한다.(예, 암진단)\n",
    "positive real중의 True가 차지하는 비율  \n",
    "(*실제 positive가 negative로 측정되는것이 critical할때 사용)  \n",
    "$${TP}\\over{TP+FN}$$\n",
    "\n",
    "* F1 점수(F1 score)  \n",
    "정밀도와 재현율의 조화평균으로 편중되지않은 균등한 모델을 만들때 사용  \n",
    "$${2}\\over{{{1} \\over {precision}}+{{1} \\over {recall}}}$$\n",
    "\n",
    "<br/>\n"
   ]
  },
  {
   "cell_type": "markdown",
   "metadata": {},
   "source": [
    "<a name=\"로그-손실\"></a>\n",
    "## 로그 손실\n",
    "\n",
    "타겟을 확률적으로 예측시 사용되는 모델(0에 가까울 수록 좋음)  \n",
    "$$logloss = -{{1}\\over{N}}\\sum_{i=1}^N(y_ilog(\\hat{y_i})+(1-y_i)log(1-\\hat{y_i}))$$"
   ]
  },
  {
   "cell_type": "markdown",
   "metadata": {},
   "source": [
    "<a name=\"ROC-곡선과-AUC\"></a>\n",
    "## ROC 곡선과 AUC\n",
    "- ROC(Receiver Operating Characteristic)곡선은 참 양성 비율(TPR)에 대한 거짓 양성 비율(FPR)곡선이다.  \n",
    "- AUC(Area Under the Curve)는 ROC 곡선 아래 면적을 의미한다.  \n",
    "\n",
    "로그손실과 같이 예측값이 확률일때 사용하게 된다.  \n",
    "$$TNR = {{TN}\\over{FP+TN}}$$\n",
    "$$FPR = 1 - TNR$$  \n",
    "\n",
    "TNR은 특이도(specificity)라고도 불린다.\n",
    "<center>\n",
    "  <img\n",
    "    src=\"https://upload.wikimedia.org/wikipedia/commons/thumb/1/13/Roc_curve.svg/512px-Roc_curve.svg.png\"\n",
    "    width=\"350\"\n",
    "    height=\"400\"\n",
    "  />\n",
    "</center>\n",
    "\n",
    "<br/><br/>"
   ]
  },
  {
   "cell_type": "markdown",
   "metadata": {},
   "source": [
    "<a name=\"데이터-인코딩\"></a>\n",
    "# 데이터 인코딩\n",
    "\n",
    "대표적인 데이터 인코딩에서는 **레이블 인코딩**과 **원-핫 인코딩**이 있다.  "
   ]
  },
  {
   "cell_type": "markdown",
   "metadata": {},
   "source": [
    "<a name=\"레이블-인코딩\"></a>\n",
    "## 레이블 인코딩  \n",
    "\n",
    "레이블 인코딩을 적용하면 원본 데이터의 값에 사전순으로 번호를 매깁니다.  "
   ]
  },
  {
   "cell_type": "code",
   "execution_count": 2,
   "metadata": {},
   "outputs": [
    {
     "name": "stdout",
     "output_type": "stream",
     "text": [
      "레이블 인코딩 적용 후 데이터: [0 1 2]\n"
     ]
    }
   ],
   "source": [
    "from sklearn.preprocessing import LabelEncoder\n",
    "\n",
    "fruits = ['banana', 'berry', 'blueberry']\n",
    "\n",
    "label_encoder = LabelEncoder()\n",
    "fruits_label_encoded = label_encoder.fit_transform(fruits)\n",
    "\n",
    "print('레이블 인코딩 적용 후 데이터:', fruits_label_encoded)"
   ]
  },
  {
   "cell_type": "markdown",
   "metadata": {},
   "source": [
    "<a name=\"오디널-인코딩\"></a>\n",
    "## 오디널 인코딩  \n",
    "범주형 데이터를 숫자로 1대1 매칭해주는 방법(고차원 데이터)  \n",
    "데이터간의 상관관계가 있을 때 사용  "
   ]
  },
  {
   "cell_type": "markdown",
   "metadata": {},
   "source": [
    "<a name=\"원핫-인코딩\"></a>\n",
    "## 원핫 인코딩  \n",
    "범주형 데이터 value수 만큼 feature를 늘려서 해당하면 1 아니면 0을 나타냄  \n",
    "메모리를 아끼기 위해서 Compressed spares row로 변환됨  \n",
    "데이터간의 상관관계가 없을 때 사용  "
   ]
  },
  {
   "cell_type": "code",
   "execution_count": 12,
   "metadata": {},
   "outputs": [
    {
     "name": "stdout",
     "output_type": "stream",
     "text": [
      "원-핫 인코딩 적용 후 데이터: \n",
      " [[1. 0. 0.]\n",
      " [0. 1. 0.]\n",
      " [0. 0. 1.]]\n"
     ]
    }
   ],
   "source": [
    "from sklearn.preprocessing import OneHotEncoder\n",
    "\n",
    "fruits = ['banana', 'berry', 'blueberry']\n",
    "\n",
    "# 레이블 인코더, 원-핫 인코더 생성\n",
    "label_encoder = LabelEncoder()\n",
    "onehot_encoder = OneHotEncoder()\n",
    "\n",
    "# 레이블 인코딩 적용(문자 데이터 -> 숫자 데이터)\n",
    "fruits_onehot_encoded = label_encoder.fit_transform(fruits)\n",
    "\n",
    "# 원-핫 인코딩 적용\n",
    "# reshape의 -1 값은 다른 인자 값에 따라 의존적으로 변화는 값을 의미한다.  \n",
    "fruits_onehot_encoded = onehot_encoder.fit_transform(fruits_label_encoded.reshape(-1,1))\n",
    "\n",
    "print('원-핫 인코딩 적용 후 데이터: \\n', fruits_onehot_encoded.toarray())\n",
    "\n",
    "# -----------------------------------"
   ]
  },
  {
   "cell_type": "code",
   "execution_count": 13,
   "metadata": {},
   "outputs": [
    {
     "data": {
      "text/html": [
       "<div>\n",
       "<style scoped>\n",
       "    .dataframe tbody tr th:only-of-type {\n",
       "        vertical-align: middle;\n",
       "    }\n",
       "\n",
       "    .dataframe tbody tr th {\n",
       "        vertical-align: top;\n",
       "    }\n",
       "\n",
       "    .dataframe thead th {\n",
       "        text-align: right;\n",
       "    }\n",
       "</style>\n",
       "<table border=\"1\" class=\"dataframe\">\n",
       "  <thead>\n",
       "    <tr style=\"text-align: right;\">\n",
       "      <th></th>\n",
       "      <th>banana</th>\n",
       "      <th>berry</th>\n",
       "      <th>blueberry</th>\n",
       "    </tr>\n",
       "  </thead>\n",
       "  <tbody>\n",
       "    <tr>\n",
       "      <th>0</th>\n",
       "      <td>True</td>\n",
       "      <td>False</td>\n",
       "      <td>False</td>\n",
       "    </tr>\n",
       "    <tr>\n",
       "      <th>1</th>\n",
       "      <td>False</td>\n",
       "      <td>True</td>\n",
       "      <td>False</td>\n",
       "    </tr>\n",
       "    <tr>\n",
       "      <th>2</th>\n",
       "      <td>False</td>\n",
       "      <td>False</td>\n",
       "      <td>True</td>\n",
       "    </tr>\n",
       "  </tbody>\n",
       "</table>\n",
       "</div>"
      ],
      "text/plain": [
       "   banana  berry  blueberry\n",
       "0    True  False      False\n",
       "1   False   True      False\n",
       "2   False  False       True"
      ]
     },
     "execution_count": 13,
     "metadata": {},
     "output_type": "execute_result"
    }
   ],
   "source": [
    "import pandas as pd\n",
    "pd.get_dummies(fruits)"
   ]
  },
  {
   "cell_type": "markdown",
   "metadata": {},
   "source": [
    "<a name=\"피쳐-스케일링\"></a>\n",
    "# 피쳐 스케일링  \n",
    "\n",
    "피쳐들마다 범위가 다르기때문에 범위를 조절하는 기법  \n",
    "단, 트리 기반 모델(랜덤 포레시트, XGBoost, LightGBM 등)은 피처 스케일링이 필요 없다.  \n",
    "트리 기반 모델은 데이터의 크기보다는 대소 관계에 영향을 받기 때문이다. 피처 스케일링을 하더라도 데이터의 대소 관계에는 변함이 없다.  "
   ]
  },
  {
   "cell_type": "markdown",
   "metadata": {},
   "source": [
    "<a name=\"min-max-정규화normalization\"></a>\n",
    "## min-max 정규화(normalization)  \n",
    "\n",
    "0~1의 범위의 값으로 수치를 변화시키는것을 의미하며 아래의 식으로 변환됨  \n",
    "(outlier에 취약함)  \n",
    "$$x_{scaled} = {{x-x_{min}} \\over {x_{max}-x_{min}}}$$\n",
    "fit, transform을 따로 할때 음수 발현가능"
   ]
  },
  {
   "cell_type": "code",
   "execution_count": 14,
   "metadata": {},
   "outputs": [
    {
     "name": "stdout",
     "output_type": "stream",
     "text": [
      "      키  몸무게\n",
      "광일  1.7   75\n",
      "혜성  1.5   55\n",
      "덕수  1.8   60\n",
      "[[0.66666667 1.        ]\n",
      " [0.         0.        ]\n",
      " [1.         0.25      ]]\n"
     ]
    }
   ],
   "source": [
    "import pandas as pd\n",
    "from sklearn.preprocessing import MinMaxScaler\n",
    "\n",
    "height_weight_dict = {'키': [1.7, 1.5, 1.8], '몸무게': [75, 55, 60]}\n",
    "df = pd.DataFrame(height_weight_dict, index=['광일', '혜성', '덕수'])\n",
    "\n",
    "scaler = MinMaxScaler()\n",
    "scaler.fit(df) # df 데이터에서 min max를 사용하여 동작\n",
    "df_scaled = scaler.transform(df) # 여기서는 예시로 df를 했지만 다른 데이터를 입력하면 앞에서 사용한 min max를 적용하는 부분\n",
    "# 예시\n",
    "# df_scaled2 = scaler.transform(df2)\n",
    "# df_scaled3 = scaler.transform(df3)\n",
    "\n",
    "print(df)\n",
    "print(df_scaled)"
   ]
  },
  {
   "cell_type": "markdown",
   "metadata": {},
   "source": [
    "<a name=\"표준화standardization\"></a>\n",
    "## 표준화(standardization)  \n",
    "\n",
    "평균이 0, 분산이 1이 되게 피쳐를 조정(정규분포를 따르는 데이터는 표준화 스케일링을 적용하는게 좋다.)\n",
    "$$x_{scaled} = {{x-\\hat{x}}\\over{\\sigma}}$$"
   ]
  },
  {
   "cell_type": "code",
   "execution_count": 15,
   "metadata": {},
   "outputs": [
    {
     "name": "stdout",
     "output_type": "stream",
     "text": [
      "      키  몸무게\n",
      "광일  1.7   75\n",
      "혜성  1.5   55\n",
      "덕수  1.8   60\n",
      "[[ 0.26726124  1.37281295]\n",
      " [-1.33630621 -0.98058068]\n",
      " [ 1.06904497 -0.39223227]]\n"
     ]
    }
   ],
   "source": [
    "import pandas as pd\n",
    "from sklearn.preprocessing import StandardScaler\n",
    "\n",
    "height_weight_dict = {'키': [1.7, 1.5, 1.8], '몸무게': [75, 55, 60]}\n",
    "df = pd.DataFrame(height_weight_dict, index=['광일', '혜성', '덕수'])\n",
    "\n",
    "scaler = StandardScaler()\n",
    "scaler.fit(df)\n",
    "df_scaled = scaler.transform(df)\n",
    "\n",
    "print(df)\n",
    "print(df_scaled)"
   ]
  },
  {
   "cell_type": "markdown",
   "metadata": {},
   "source": [
    "<a name=\"교차-검증\"></a>\n",
    "# 교차 검증  \n",
    "\n",
    "성능검증의 필요성  \n",
    "1. 과적합 : 모델 과적합을 피할 수 있다.\n",
    "2. 캐글에서 제출하기 전까지 성능을 확인하기 어렵다.\n",
    "\n",
    "위의 2가지를 위해서 교차 검증을 사용한다. 가장 일반적인 방법이 K 폴드 교차 검증이다. "
   ]
  },
  {
   "cell_type": "markdown",
   "metadata": {},
   "source": [
    "<a name=\"K-폴드-교차-검증\"></a>\n",
    "## K 폴드 교차 검증  \n",
    "1. 전체 훈련 데이터를 K개 그룹으로 나눈다.  \n",
    "2. 그룹 하는 검증 데이터로, 나머지 K-1개는 훈련 데이터로 지정한다.  \n",
    "3. 훈련 데이터로 모델을 훈련하고, 검증 데이터로 평가한다.  \n",
    "4. 평가점수를 기록한다.  \n",
    "5. 검증 데이터를 다른 그룹으로 바꿔가며 2~4 절차를 K번 반복한다.  \n",
    "6. K개 검증 평가점수의 평균을 구한다.  "
   ]
  },
  {
   "cell_type": "code",
   "execution_count": 1,
   "metadata": {},
   "outputs": [
    {
     "name": "stdout",
     "output_type": "stream",
     "text": [
      "[0 1 2 4 5 6 7 8] [3 9]\n",
      "[0 1 2 3 4 5 6 9] [7 8]\n",
      "[0 1 3 4 6 7 8 9] [2 5]\n",
      "[0 2 3 5 6 7 8 9] [1 4]\n",
      "[1 2 3 4 5 7 8 9] [0 6]\n"
     ]
    }
   ],
   "source": [
    "import numpy as np\n",
    "from sklearn.model_selection import KFold\n",
    "\n",
    "data = np.array([0,1,2,3,4,5,6,7,8,9])\n",
    "\n",
    "folds = KFold(n_splits=5, shuffle=True)\n",
    "\n",
    "for train, valid in folds.split(data):\n",
    "    print(train, valid)"
   ]
  },
  {
   "cell_type": "markdown",
   "metadata": {},
   "source": [
    "<a name=\"층화-K-폴드-교차-검증\"></a>\n",
    "## 층화 K 폴드 교차 검증  \n",
    "층화 K 폴드 교차 검증은 타깃값이 폴드마다 골고루 분포되게 나누는 방법이다. \n",
    "> 주위! 층화 K 폴드 교차 검증은 **분류 분제**에서만 쓰인다.\n",
    "> (저자 주) 근듕한 비율로 나누기 위해서는 타깃값이 유한해야 하다고 한다. 즉, 연속된 값이면 동일한 비율이 안된다는 뜻임.  "
   ]
  },
  {
   "cell_type": "code",
   "execution_count": 15,
   "metadata": {},
   "outputs": [
    {
     "name": "stdout",
     "output_type": "stream",
     "text": [
      "Flod 1 검증 데이터 타깃값:\n",
      "['일반' '일반' '일반' '일반' '일반' '일반' '일반' '일반' '일반' '일반'] \n",
      "\n",
      "Flod 2 검증 데이터 타깃값:\n",
      "['스팸' '일반' '일반' '일반' '일반' '일반' '일반' '일반' '일반' '일반'] \n",
      "\n",
      "Flod 3 검증 데이터 타깃값:\n",
      "['스팸' '스팸' '스팸' '일반' '일반' '일반' '일반' '일반' '일반' '일반'] \n",
      "\n",
      "Flod 4 검증 데이터 타깃값:\n",
      "['일반' '일반' '일반' '일반' '일반' '일반' '일반' '일반' '일반' '일반'] \n",
      "\n",
      "Flod 5 검증 데이터 타깃값:\n",
      "['스팸' '일반' '일반' '일반' '일반' '일반' '일반' '일반' '일반' '일반'] \n",
      "\n"
     ]
    }
   ],
   "source": [
    "import numpy as np\n",
    "import seaborn as sns\n",
    "from sklearn.model_selection import StratifiedKFold\n",
    "\n",
    "y = np.array(['스팸']*5 + ['일반']*45)\n",
    "\n",
    "folds = KFold(n_splits=5, shuffle=True)\n",
    "\n",
    "for idx, (train_idx, valid_idx) in enumerate(folds.split(y)):\n",
    "    print(f'Flod {idx+1} 검증 데이터 타깃값:')\n",
    "    print(y[valid_idx], \"\\n\")"
   ]
  },
  {
   "cell_type": "code",
   "execution_count": 11,
   "metadata": {},
   "outputs": [
    {
     "name": "stdout",
     "output_type": "stream",
     "text": [
      "Flod 1 검증 데이터 타깃값:\n",
      "['스팸' '일반' '일반' '일반' '일반' '일반' '일반' '일반' '일반' '일반'] \n",
      "\n",
      "Flod 2 검증 데이터 타깃값:\n",
      "['스팸' '일반' '일반' '일반' '일반' '일반' '일반' '일반' '일반' '일반'] \n",
      "\n",
      "Flod 3 검증 데이터 타깃값:\n",
      "['스팸' '일반' '일반' '일반' '일반' '일반' '일반' '일반' '일반' '일반'] \n",
      "\n",
      "Flod 4 검증 데이터 타깃값:\n",
      "['스팸' '일반' '일반' '일반' '일반' '일반' '일반' '일반' '일반' '일반'] \n",
      "\n",
      "Flod 5 검증 데이터 타깃값:\n",
      "['스팸' '일반' '일반' '일반' '일반' '일반' '일반' '일반' '일반' '일반'] \n",
      "\n"
     ]
    }
   ],
   "source": [
    "import numpy as np\n",
    "import seaborn as sns\n",
    "from sklearn.model_selection import StratifiedKFold\n",
    "\n",
    "X = np.array(range(0,100,2))\n",
    "y = np.array(['스팸']*5 + ['일반']*45)\n",
    "\n",
    "folds = StratifiedKFold(n_splits=5, shuffle=True)\n",
    "\n",
    "for idx, (train_idx, valid_idx) in enumerate(folds.split(X,y)):\n",
    "    print(f'Flod {idx+1} 검증 데이터 타깃값:')\n",
    "    print(y[valid_idx], \"\\n\")"
   ]
  },
  {
   "cell_type": "markdown",
   "metadata": {},
   "source": [
    "<a name=\"주요-머신러닝-모델\"></a>\n",
    "# 주요 머신러닝 모델\n",
    "\n",
    "+ 선형회귀\n",
    "+ 랜덤 포레스트\n",
    "+ 로지스틱 회귀\n",
    "+ XGBoost\n",
    "+ 결정 트리\n",
    "+ LightGBM\n",
    "+ 앙상블 학습"
   ]
  },
  {
   "cell_type": "markdown",
   "metadata": {},
   "source": [
    "<a name=\"선형-회귀-모델\"></a>\n",
    "## 선형 회귀 모델"
   ]
  },
  {
   "cell_type": "code",
   "execution_count": 19,
   "metadata": {},
   "outputs": [
    {
     "data": {
      "image/png": "[encoded data removed]",
      "text/plain": [
       "<Figure size 640x480 with 1 Axes>"
      ]
     },
     "metadata": {},
     "output_type": "display_data"
    }
   ],
   "source": [
    "# y = 2x + 5에 근사하는 데이터 100개에 대한 선형 회귀 모델\n",
    "import numpy as np\n",
    "import matplotlib.pyplot as plt\n",
    "\n",
    "np.random.seed(0) # 시드 값 고정\n",
    "\n",
    "w0 = 5 # y 절편\n",
    "w1 = 2 # 회귀계수\n",
    "noise = np.random.randn(100, 1) # 노이즈\n",
    "\n",
    "x = 4* np.random.rand(100, 1) # 0~4 사이 실수값 100개 생성 (x값)\n",
    "y = w1*x+w0+noise # y값\n",
    "plt.scatter(x,y)\n",
    "plt.show()"
   ]
  },
  {
   "cell_type": "code",
   "execution_count": 21,
   "metadata": {},
   "outputs": [
    {
     "name": "stdout",
     "output_type": "stream",
     "text": [
      "w0 :  [5.09772262]\n",
      "w1 :  [[1.9808382]]\n"
     ]
    }
   ],
   "source": [
    "# 모델 훈련\n",
    "from sklearn.linear_model import LinearRegression\n",
    "\n",
    "linear_reg_model = LinearRegression()\n",
    "linear_reg_model.fit(x,y)\n",
    "\n",
    "print('w0 : ', linear_reg_model.intercept_)\n",
    "print('w1 : ', linear_reg_model.coef_)"
   ]
  },
  {
   "cell_type": "code",
   "execution_count": 25,
   "metadata": {},
   "outputs": [
    {
     "data": {
      "image/png": "[encoded data removed]",
      "text/plain": [
       "<Figure size 640x480 with 1 Axes>"
      ]
     },
     "metadata": {},
     "output_type": "display_data"
    }
   ],
   "source": [
    "# 회귀선 그리기\n",
    "y_pred = linear_reg_model.predict(x)\n",
    "\n",
    "plt.scatter(x,y)\n",
    "plt.plot(x,y_pred, color = 'red')\n",
    "plt.show()"
   ]
  },
  {
   "cell_type": "markdown",
   "metadata": {},
   "source": [
    "<a name=\"로지스틱-회귀-모델\"></a>\n",
    "## 로지스틱 회귀 모델  \n",
    "이진 분류 문제에 사용되는 로지스틱 회귀 모델이다. $x$가 변할 때 $y$가 1이 되는 경향성을 판별하는 모델이다.  \n",
    "* odds  \n",
    "성공확률과 실패 확률의 비율  \n",
    "\n",
    "$$odds = \\tfrac{p(y=1|x)}{1-p(y=1|x)}$$\n",
    "\n",
    "* logit  \n",
    "odds에 log를 취한 함수  \n",
    "\n",
    "$$logit(p) = log(\\tfrac{p}{1-p})$$\n",
    "\n",
    "* sigmoid function  \n",
    "logit 함수의 입력과 출력을 바꾼함수  \n",
    "\n",
    "$$p(X) = \\tfrac{1}{1+e^{-\\beta X}}$$\n",
    "\n",
    "* logistic function  \n",
    "sigmoid 함수 만들어진 예측 모델  "
   ]
  },
  {
   "cell_type": "code",
   "execution_count": 26,
   "metadata": {},
   "outputs": [
    {
     "name": "stdout",
     "output_type": "stream",
     "text": [
      "     mean radius  mean texture  mean perimeter  mean area  mean smoothness  \\\n",
      "0          17.99         10.38          122.80     1001.0          0.11840   \n",
      "1          20.57         17.77          132.90     1326.0          0.08474   \n",
      "2          19.69         21.25          130.00     1203.0          0.10960   \n",
      "3          11.42         20.38           77.58      386.1          0.14250   \n",
      "4          20.29         14.34          135.10     1297.0          0.10030   \n",
      "..           ...           ...             ...        ...              ...   \n",
      "564        21.56         22.39          142.00     1479.0          0.11100   \n",
      "565        20.13         28.25          131.20     1261.0          0.09780   \n",
      "566        16.60         28.08          108.30      858.1          0.08455   \n",
      "567        20.60         29.33          140.10     1265.0          0.11780   \n",
      "568         7.76         24.54           47.92      181.0          0.05263   \n",
      "\n",
      "     mean compactness  mean concavity  mean concave points  mean symmetry  \\\n",
      "0             0.27760         0.30010              0.14710         0.2419   \n",
      "1             0.07864         0.08690              0.07017         0.1812   \n",
      "2             0.15990         0.19740              0.12790         0.2069   \n",
      "3             0.28390         0.24140              0.10520         0.2597   \n",
      "4             0.13280         0.19800              0.10430         0.1809   \n",
      "..                ...             ...                  ...            ...   \n",
      "564           0.11590         0.24390              0.13890         0.1726   \n",
      "565           0.10340         0.14400              0.09791         0.1752   \n",
      "566           0.10230         0.09251              0.05302         0.1590   \n",
      "567           0.27700         0.35140              0.15200         0.2397   \n",
      "568           0.04362         0.00000              0.00000         0.1587   \n",
      "\n",
      "     mean fractal dimension  ...  worst texture  worst perimeter  worst area  \\\n",
      "0                   0.07871  ...          17.33           184.60      2019.0   \n",
      "1                   0.05667  ...          23.41           158.80      1956.0   \n",
      "2                   0.05999  ...          25.53           152.50      1709.0   \n",
      "3                   0.09744  ...          26.50            98.87       567.7   \n",
      "4                   0.05883  ...          16.67           152.20      1575.0   \n",
      "..                      ...  ...            ...              ...         ...   \n",
      "564                 0.05623  ...          26.40           166.10      2027.0   \n",
      "565                 0.05533  ...          38.25           155.00      1731.0   \n",
      "566                 0.05648  ...          34.12           126.70      1124.0   \n",
      "567                 0.07016  ...          39.42           184.60      1821.0   \n",
      "568                 0.05884  ...          30.37            59.16       268.6   \n",
      "\n",
      "     worst smoothness  worst compactness  worst concavity  \\\n",
      "0             0.16220            0.66560           0.7119   \n",
      "1             0.12380            0.18660           0.2416   \n",
      "2             0.14440            0.42450           0.4504   \n",
      "3             0.20980            0.86630           0.6869   \n",
      "4             0.13740            0.20500           0.4000   \n",
      "..                ...                ...              ...   \n",
      "564           0.14100            0.21130           0.4107   \n",
      "565           0.11660            0.19220           0.3215   \n",
      "566           0.11390            0.30940           0.3403   \n",
      "567           0.16500            0.86810           0.9387   \n",
      "568           0.08996            0.06444           0.0000   \n",
      "\n",
      "     worst concave points  worst symmetry  worst fractal dimension  label  \n",
      "0                  0.2654          0.4601                  0.11890      0  \n",
      "1                  0.1860          0.2750                  0.08902      0  \n",
      "2                  0.2430          0.3613                  0.08758      0  \n",
      "3                  0.2575          0.6638                  0.17300      0  \n",
      "4                  0.1625          0.2364                  0.07678      0  \n",
      "..                    ...             ...                      ...    ...  \n",
      "564                0.2216          0.2060                  0.07115      0  \n",
      "565                0.1628          0.2572                  0.06637      0  \n",
      "566                0.1418          0.2218                  0.07820      0  \n",
      "567                0.2650          0.4087                  0.12400      0  \n",
      "568                0.0000          0.2871                  0.07039      1  \n",
      "\n",
      "[569 rows x 31 columns]\n"
     ]
    }
   ],
   "source": [
    "import pandas as pd\n",
    "import matplotlib.pyplot as plt\n",
    "from sklearn.datasets import load_breast_cancer\n",
    "\n",
    "breast_cancer = load_breast_cancer()\n",
    "df = pd.DataFrame(data=breast_cancer.data, columns=breast_cancer.feature_names)\n",
    "df[\"label\"] = breast_cancer.target\n",
    "print(df)\n",
    "\n",
    "from sklearn.model_selection import train_test_split\n",
    "\n",
    "# Step1) train / test 으로 나누기\n",
    "train, test = train_test_split(df, test_size=0.2, random_state=0)"
   ]
  },
  {
   "cell_type": "code",
   "execution_count": 27,
   "metadata": {},
   "outputs": [
    {
     "name": "stdout",
     "output_type": "stream",
     "text": [
      "최빈 클래스:  1\n",
      "validation 데이터셋 정확도:  0.5877192982456141\n"
     ]
    }
   ],
   "source": [
    "from sklearn.metrics import accuracy_score\n",
    "\n",
    "# 모델 만들기\n",
    "majority_class = train[\"label\"].mode()[0]\n",
    "\n",
    "# 기준모델의 정확도 계산을 위한 데이터 생성\n",
    "y_pred = [majority_class] * len(test)\n",
    "\n",
    "# validation 데이터셋에 대한 정확도 확인\n",
    "print(\"최빈 클래스: \", majority_class)\n",
    "print(\"validation 데이터셋 정확도: \", accuracy_score(test[\"label\"], y_pred))"
   ]
  },
  {
   "cell_type": "code",
   "execution_count": 28,
   "metadata": {},
   "outputs": [
    {
     "name": "stdout",
     "output_type": "stream",
     "text": [
      "validation 데이터셋 정확도 0.9473684210526315\n",
      "validation 데이터셋의 타겟 확률 [[9.94248604e-01 5.75139604e-03]\n",
      " [3.09609046e-02 9.69039095e-01]\n",
      " [1.34983722e-03 9.98650163e-01]\n",
      " [1.42638641e-01 8.57361359e-01]\n",
      " [3.01743109e-05 9.99969826e-01]\n",
      " [6.16150187e-04 9.99383850e-01]\n",
      " [2.71063677e-03 9.97289363e-01]\n",
      " [5.05695474e-04 9.99494305e-01]\n",
      " [7.32929302e-05 9.99926707e-01]\n",
      " [1.31420997e-05 9.99986858e-01]\n",
      " [7.05623977e-01 2.94376023e-01]\n",
      " [1.92600564e-01 8.07399436e-01]\n",
      " [7.28368281e-05 9.99927163e-01]\n",
      " [7.37911102e-01 2.62088898e-01]\n",
      " [3.21821170e-01 6.78178830e-01]\n",
      " [9.90741602e-01 9.25839829e-03]\n",
      " [3.82129316e-04 9.99617871e-01]\n",
      " [9.99999817e-01 1.82887194e-07]\n",
      " [9.95867001e-01 4.13299923e-03]\n",
      " [1.00000000e+00 4.08608413e-10]\n",
      " [9.99904176e-01 9.58240211e-05]\n",
      " [9.65495511e-01 3.45044892e-02]\n",
      " [2.00717945e-03 9.97992821e-01]\n",
      " [3.67701533e-03 9.96322985e-01]\n",
      " [8.67353069e-01 1.32646931e-01]\n",
      " [3.82444937e-03 9.96175551e-01]\n",
      " [1.93714824e-04 9.99806285e-01]\n",
      " [9.26213090e-01 7.37869101e-02]\n",
      " [2.02390512e-03 9.97976095e-01]\n",
      " [9.99999999e-01 5.34141461e-10]\n",
      " [1.17050827e-04 9.99882949e-01]\n",
      " [9.99992130e-01 7.87005516e-06]\n",
      " [2.55388754e-01 7.44611246e-01]\n",
      " [9.99603086e-01 3.96914017e-04]\n",
      " [3.53477706e-06 9.99996465e-01]\n",
      " [9.98710258e-01 1.28974157e-03]\n",
      " [4.88140657e-02 9.51185934e-01]\n",
      " [9.99970068e-01 2.99323156e-05]\n",
      " [6.28901008e-03 9.93710990e-01]\n",
      " [9.99705521e-01 2.94479330e-04]\n",
      " [9.41721805e-01 5.82781953e-02]\n",
      " [4.37681315e-05 9.99956232e-01]\n",
      " [9.97673320e-01 2.32668025e-03]\n",
      " [5.55371739e-05 9.99944463e-01]\n",
      " [8.98642799e-01 1.01357201e-01]\n",
      " [9.99999999e-01 9.54682887e-10]\n",
      " [1.23885961e-06 9.99998761e-01]\n",
      " [4.67269502e-02 9.53273050e-01]\n",
      " [4.06777979e-04 9.99593222e-01]\n",
      " [9.99802382e-01 1.97618205e-04]\n",
      " [9.99998854e-01 1.14648500e-06]\n",
      " [8.75505527e-01 1.24494473e-01]\n",
      " [9.99995408e-01 4.59193247e-06]\n",
      " [1.02664090e-03 9.98973359e-01]\n",
      " [4.94223732e-03 9.95057763e-01]\n",
      " [1.80948488e-04 9.99819052e-01]\n",
      " [2.57451615e-03 9.97425484e-01]\n",
      " [1.34040751e-02 9.86595925e-01]\n",
      " [1.11241739e-02 9.88875826e-01]\n",
      " [1.00000000e+00 1.79126608e-14]\n",
      " [9.95955604e-01 4.04439643e-03]\n",
      " [9.99873209e-01 1.26791407e-04]\n",
      " [2.27679378e-04 9.99772321e-01]\n",
      " [2.77694631e-03 9.97223054e-01]\n",
      " [9.99999863e-01 1.36657778e-07]\n",
      " [6.19860811e-02 9.38013919e-01]\n",
      " [1.00000000e+00 1.98727515e-16]\n",
      " [9.99997722e-01 2.27823650e-06]\n",
      " [9.99999595e-01 4.04545757e-07]\n",
      " [4.38788726e-04 9.99561211e-01]\n",
      " [5.81435761e-01 4.18564239e-01]\n",
      " [9.99997458e-01 2.54189843e-06]\n",
      " [7.05984421e-04 9.99294016e-01]\n",
      " [2.18323331e-01 7.81676669e-01]\n",
      " [9.99992472e-01 7.52798593e-06]\n",
      " [2.11531602e-02 9.78846840e-01]\n",
      " [1.19766057e-05 9.99988023e-01]\n",
      " [1.29771794e-02 9.87022821e-01]\n",
      " [9.86187184e-04 9.99013813e-01]\n",
      " [6.99914482e-05 9.99930009e-01]\n",
      " [9.98041578e-01 1.95842195e-03]\n",
      " [1.00000000e+00 2.17672310e-10]\n",
      " [9.99989424e-01 1.05758181e-05]\n",
      " [9.08421678e-05 9.99909158e-01]\n",
      " [9.54482977e-01 4.55170235e-02]\n",
      " [2.71893507e-04 9.99728106e-01]\n",
      " [1.27877997e-03 9.98721220e-01]\n",
      " [4.61394844e-06 9.99995386e-01]\n",
      " [9.99931751e-01 6.82493883e-05]\n",
      " [1.00000000e+00 2.02530695e-11]\n",
      " [5.40535168e-06 9.99994595e-01]\n",
      " [6.32175130e-01 3.67824870e-01]\n",
      " [7.66520072e-01 2.33479928e-01]\n",
      " [9.99946498e-01 5.35023844e-05]\n",
      " [6.39166047e-04 9.99360834e-01]\n",
      " [5.68157610e-04 9.99431842e-01]\n",
      " [1.00000000e+00 1.48152196e-14]\n",
      " [8.71392635e-02 9.12860737e-01]\n",
      " [1.13161769e-02 9.88683823e-01]\n",
      " [4.09860597e-03 9.95901394e-01]\n",
      " [1.57180650e-05 9.99984282e-01]\n",
      " [2.97106460e-03 9.97028935e-01]\n",
      " [7.14329003e-03 9.92856710e-01]\n",
      " [2.27596100e-01 7.72403900e-01]\n",
      " [9.99999117e-01 8.82992408e-07]\n",
      " [7.52313601e-05 9.99924769e-01]\n",
      " [9.99978964e-01 2.10357560e-05]\n",
      " [3.18988409e-01 6.81011591e-01]\n",
      " [8.60931257e-01 1.39068743e-01]\n",
      " [7.05041963e-01 2.94958037e-01]\n",
      " [1.99345959e-02 9.80065404e-01]\n",
      " [9.94860597e-01 5.13940344e-03]\n",
      " [9.99943658e-01 5.63420371e-05]\n",
      " [1.95348161e-01 8.04651839e-01]]\n"
     ]
    }
   ],
   "source": [
    "from sklearn.linear_model import LogisticRegression\n",
    "\n",
    "y_train = train['label']\n",
    "X_train = train.drop(columns='label')\n",
    "y_test = test['label']\n",
    "X_test = test.drop(columns='label')\n",
    "\n",
    "# 모델 생성 및 학습 시키기\n",
    "logistic = LogisticRegression(max_iter=5000) # iter 초과시 증가\n",
    "logistic.fit(X_train, y_train)\n",
    "\n",
    "# 결과 확인\n",
    "print(\"validation 데이터셋 정확도\", logistic.score(X_test, y_test))\n",
    "print(\"validation 데이터셋의 타겟 확률\", logistic.predict_proba(X_test))"
   ]
  },
  {
   "cell_type": "markdown",
   "metadata": {},
   "source": [
    "<a name=\"결정-트리\"></a>\n",
    "## 결정 트리\n",
    "\n",
    "1. 데이터를 가장 잘 구분하는 조건을 선정  \n",
    "2. 조건을 기준으로 데이터를 두 범주로 분류  \n",
    "3. 나뉜 각 범주의 데이터를 잘 구분하는 조건을 다시 결정  \n",
    "4. 조건에 따라 각 범주에 속한 데이터를 다시 분할\n",
    "5. 위와 같은 순서로 계속 분할해 최종 결과 값을 도출  \n",
    "\n",
    "> 머신러닝에서 결정트리(decision tree)를 분할하는 방법은 불순도(impurity)를 최소화하는 방향으로 분할한다.  \n",
    "1. 엔트로피 : 0~1, 0에 가까울수록 불순도가 낮아진다.  \n",
    "2. 지니 불순도  : 0~1  \n",
    "\n",
    "* criterion : 불순도 측정 지표 [default : 'gini', 'entropy']\n",
    "* max_depth : 트리 최대 깊이 [default : None]\n",
    "    * min_samples_split과 같은 옵션이 없으면 기본으로 불순도 0까지 분할\n",
    "* min_samples_split : 노드 분할에 필요한 최소 데이터수 [default : 2]\n",
    "    * 정수형, 실수형(비율) 사용가능\n",
    "* min_samples_leaf : 말단 노드가 되기 위한 최소 데이터수 [default : 1]\n",
    "    * 정수형, 실수형(비율) 사용가능\n",
    "* max_features : 분할에 사용할 피쳐수 [default : None]\n",
    "    * 정수형, 실수형(비율) 사용가능\n",
    "    * 'auto', 'sqrt', 'log2' 사용가능"
   ]
  },
  {
   "cell_type": "code",
   "execution_count": 29,
   "metadata": {},
   "outputs": [
    {
     "name": "stdout",
     "output_type": "stream",
     "text": [
      "결정 트리 정확도 : 0.939\n"
     ]
    }
   ],
   "source": [
    "from sklearn.tree import DecisionTreeClassifier\n",
    "from sklearn.model_selection import train_test_split\n",
    "from sklearn.datasets import load_breast_cancer\n",
    "\n",
    "breast_cancer = load_breast_cancer()\n",
    "\n",
    "X_train, X_test, y_train, y_test = train_test_split(breast_cancer['data'],\n",
    "                                breast_cancer['target'],\n",
    "                                stratify=breast_cancer['target'],\n",
    "                                test_size=0.2,\n",
    "                                random_state=0\n",
    "                                )\n",
    "                    \n",
    "decisiontree = DecisionTreeClassifier(random_state=0)\n",
    "decisiontree.fit(X_train, y_train)\n",
    "\n",
    "accuracy = decisiontree.score(X_test, y_test)\n",
    "\n",
    "print(f'결정 트리 정확도 : {accuracy:.3f}')"
   ]
  },
  {
   "cell_type": "markdown",
   "metadata": {},
   "source": [
    "<a name=\"앙상블-학습\"></a>\n",
    "## 앙상블 학습  \n",
    "\n",
    "다양한 모델에서 나온 결과를 복합적으로 사용하여 성능을 향상하는 기법\n",
    "\n",
    "### 보팅(voting)\n",
    "* 하드 보팅(hard voting)  \n",
    "실행한 모델들에서 나온 결과에서 다수결 투표를 진행\n",
    "* 소프트 보팅(soft voting)  \n",
    "실행한 모델들에서 나온 확률의 평균값으로 진행\n",
    "\n",
    "### 배깅(bagging)  \n",
    "서로 다른 샘플링 데이터를 활용하여 앙상블 모델을 구축  \n",
    "1. 전체 훈련 데이터셋에서 무작위 샘플링한 데이터로 개별 모델을 훈련  \n",
    "2. 훈련된 개별 모델로 결과를 예측  \n",
    "3. 개별 모델의 수만큼 1~2번 작업을 반복  \n",
    "4. 각 모델이 예측한 값들을 보팅하여 최종 예측값을 산출  \n",
    "\n",
    "### 부스팅(Boosting)  \n",
    "가중치를 활용해 분류 성능이 낮은 모델을 높게 만드는 기법이다.  \n",
    "예를 들어, 이전 모델이 잘못 예측한 데이터에 대해 가중치를 적용해 다음 모델이 가중치가 적용된 데이터를 좀 더 고려하면서 학습할 수 있도록 유도한다.  \n",
    "\n",
    "> 부스팅 기법을 활용한 대표적인 모델은 XGBoost와 LightGBM 등이 있다.  \n"
   ]
  },
  {
   "cell_type": "code",
   "execution_count": 30,
   "metadata": {},
   "outputs": [
    {
     "name": "stderr",
     "output_type": "stream",
     "text": [
      "d:\\Dev_folder\\anaconda3\\envs\\recent\\Lib\\site-packages\\sklearn\\linear_model\\_logistic.py:460: ConvergenceWarning: lbfgs failed to converge (status=1):\n",
      "STOP: TOTAL NO. of ITERATIONS REACHED LIMIT.\n",
      "\n",
      "Increase the number of iterations (max_iter) or scale the data as shown in:\n",
      "    https://scikit-learn.org/stable/modules/preprocessing.html\n",
      "Please also refer to the documentation for alternative solver options:\n",
      "    https://scikit-learn.org/stable/modules/linear_model.html#logistic-regression\n",
      "  n_iter_i = _check_optimize_result(\n"
     ]
    },
    {
     "name": "stdout",
     "output_type": "stream",
     "text": [
      "voting 분류기 정확도 0.9649\n"
     ]
    }
   ],
   "source": [
    "import pandas as pd\n",
    "\n",
    "from sklearn.ensemble import VotingClassifier\n",
    "from sklearn.linear_model import LogisticRegression\n",
    "from sklearn.neighbors import KNeighborsClassifier\n",
    "from sklearn.datasets import load_breast_cancer\n",
    "from sklearn.model_selection import train_test_split\n",
    "from sklearn.metrics import accuracy_score\n",
    "\n",
    "\n",
    "#load dataset\n",
    "cancer_dataset = load_breast_cancer()\n",
    "\n",
    "# cancer_dataset 그냥 찍어보니 이상하게 나옴.. dataframe화 해줘야 헸음. \n",
    "cancer_dataset_df = pd.DataFrame(cancer_dataset.data, columns=cancer_dataset.feature_names)\n",
    "cancer_dataset_df.head()\n",
    "\n",
    "\n",
    "# dataset split\n",
    "X_train, X_test, y_train, y_test = train_test_split(cancer_dataset.data, cancer_dataset.target, test_size=0.2, random_state=121)\n",
    "\n",
    "\n",
    "#weak learners: logistic regression, KNN\n",
    "logistic_regression = LogisticRegression()\n",
    "KNN = KNeighborsClassifier()\n",
    "\n",
    "#votinng ensemble with these two weak learners\n",
    "voting_ensemble = VotingClassifier(estimators=[(\"LogisticRegression\", logistic_regression), (\"KNN\", KNN)],\n",
    "                                  voting = 'soft')\n",
    "\n",
    "\n",
    "# voting_ensemble model train/val/test\n",
    "voting_ensemble.fit(X_train, y_train)\n",
    "y_pred = voting_ensemble.predict(X_test)\n",
    "\n",
    "print(\"voting 분류기 정확도 {0:.4f}\".format(accuracy_score(y_test, y_pred)))"
   ]
  },
  {
   "cell_type": "markdown",
   "metadata": {},
   "source": [
    "<a name=\"랜덤-포레스트\"></a>\n",
    "## 랜덤 포레스트  \n",
    "랜덤 포레스트는 결정 트리에 배깅 방식으로 결합한 모델을 말한다.  \n",
    "파라미터는 decision tree에서 n_estimators(트리의 수)만 추가되었다.\n",
    "\n",
    "* n_estimators : 랜덤 포레스트에 사용될 트리의 수  [default : 100]\n",
    "* criterion : 불순도 측정 지표 [default : 'gini', 'entropy']\n",
    "* max_depth : 트리 최대 깊이 [default : None]\n",
    "    * min_samples_split과 같은 옵션이 없으면 기본으로 불순도 0까지 분할\n",
    "* min_samples_split : 노드 분할에 필요한 최소 데이터수 [default : 2]\n",
    "    * 정수형, 실수형(비율) 사용가능\n",
    "* min_samples_leaf : 말단 노드가 되기 위한 최소 데이터수 [default : 1]\n",
    "    * 정수형, 실수형(비율) 사용가능\n",
    "* max_features : 분할에 사용할 피쳐수 [default : None]\n",
    "    * 정수형, 실수형(비율) 사용가능\n",
    "    * 'auto', 'sqrt', 'log2' 사용가능"
   ]
  },
  {
   "cell_type": "code",
   "execution_count": 41,
   "metadata": {},
   "outputs": [
    {
     "name": "stdout",
     "output_type": "stream",
     "text": [
      "결정 트리 정확도 : 0.947\n"
     ]
    }
   ],
   "source": [
    "from sklearn.ensemble import RandomForestClassifier\n",
    "from sklearn.model_selection import train_test_split\n",
    "from sklearn.datasets import load_breast_cancer\n",
    "\n",
    "breast_cancer = load_breast_cancer()\n",
    "\n",
    "X_train, X_test, y_train, y_test = train_test_split(breast_cancer['data'],\n",
    "                                breast_cancer['target'],\n",
    "                                stratify=breast_cancer['target'],\n",
    "                                test_size=0.2,\n",
    "                                random_state=0\n",
    "                                )\n",
    "                    \n",
    "decisiontree = RandomForestClassifier(random_state=0)\n",
    "decisiontree.fit(X_train, y_train)\n",
    "\n",
    "accuracy = decisiontree.score(X_test, y_test)\n",
    "\n",
    "print(f'결정 트리 정확도 : {accuracy:.3f}')\n",
    "\n"
   ]
  },
  {
   "cell_type": "markdown",
   "metadata": {},
   "source": [
    "<a name=\"XGBoost\"></a>\n",
    "## XGBoost\n",
    "성능이 우수한 **트리 기반 부스팅 알고리즘**이다.  \n",
    "\n",
    "파이썬 래퍼 XGBoot를 사용할려면 DMatrix 객체를 활용해 XGBoost 전용 데이터셋을 만들어야 한다.  \n",
    "xgboost.DMatrix() 파라미터는 다음과 같다.   \n",
    "- data : xgboost.DMatrix용 데이터셋  \n",
    "    - 넘파일 배열, 판다스 DataFrame, scpiy.spares, os.PathLike, 문자열 타입을 전달할 수 있다.(o.sPahtLike나 문자열이면 데이터 파일 경로를 의미함)  \n",
    "- label : 타깃값  \n",
    "    - 배열 타입을 전달할 수 있음  \n",
    "\n",
    "for XGBoost() class\n",
    "* booster : 부스팅 알고리즘 [default : 'gbtree', 'dart', 'gblinear']\n",
    "    * gblinear : 선형 모델(성능 하)\n",
    "    * dart : 드롭아웃 적용한 gbtree\n",
    "* objective : 훈련 목적 [default : 'reg:squarederror']\n",
    "    * 회귀에서 'reg:squarederror'\n",
    "    * 확룰성 이진분류에서 'binary:logistic'\n",
    "    * softmax 사용 다중분류에서 'multi:softmax'\n",
    "    * 확률값을 구하는 다중분류에서 'multi:softprob'\n",
    "* eta : 학습률(단계별 가중치) [default : 0.3, 0~1, normally 0.001~0.1]\n",
    "* max_depth : 트리의 최대 깊이 [default : 6, normally 3~10]\n",
    "* subsample : 개별 트리에 사용할 데이터 샘플링 비율 [default : 1, normally 0.6~1]\n",
    "* colsample_bytree : 트리 훈련에 사용하는 피쳐 샘플링 비율 [default : 1, normally 0.6~1]\n",
    "* alpha : L1(lasso) 규제 값 [default : 0]\n",
    "* reg_lambda : L2(Ridge) 규제 값 [default : 1]\n",
    "* gamma(min_split_loss) : leaf node가 분할 하기위한 최소 loss[default : 0, 0~$\\infty$]\n",
    "* min_child_weight : 과적합 방지 값 [default : 1, 0~$\\infty$]\n",
    "* scale_pos_weight : 불균형 데이터 가중치 조정 값 [default : 1]\n",
    "    * 주로 $음성타깃 \\over 양성타깃$ 으로 설정\n",
    "    \n",
    "for train() method\n",
    "* params : dict type 하이퍼 파라미터 목록\n",
    "* dtrain : 훈련 데이터셋\n",
    "* num_boost_round : 부스팅 반복 횟수 [default : 10]\n",
    "    * 성능, 과적합, 시간의 상관관계가 있음\n",
    "* evals : 검증용 데이터 셋 [default : []]\n",
    "* feval : 검증용 평가지표 evals사용시 활용 [default : None]\n",
    "* maximize : feval이 높은게 좋은가? [True, False]\n",
    "* early_stopping_rounds : 조기종료 옵션 [default : None, int]\n",
    "    * eta가 크면 줄이고 작으면 키움\n",
    "    * evals가 필요함\n",
    "    * 옵션의 숫자만큼 반복하고 다음번으로 반복한 결과와 비교해 성능이 감소하면 종료\n",
    "* verbose_eval : 성능 점수 로그 설정 [default : True, False, int]\n",
    "    * 설정된 횟수만큼 반복후 성능지표를 보여줌"
   ]
  },
  {
   "cell_type": "markdown",
   "metadata": {},
   "source": [
    "<a name=\"LightGBM\"></a>\n",
    "## LightGBM\n",
    "\n",
    "for LightGBM() class\n",
    "* boosting_type : 부스팅 알고리즘 [default : 'gbdt', 'dart', 'goss','rf]\n",
    "    * g\n",
    "* objective : 훈련 목적 [default : 'regression']\n",
    "    * 회귀에서 'regression'\n",
    "    * 이진분류에서 'binary'\n",
    "    * 다중분류에서 'multiclass'\n",
    "* learning_rate(eta) : 학습률(단계별 가중치) [default : ]\n",
    "* num_leaves : leaf node 갯수 커지면 과적합 위험 [default : 31]\n",
    "* max_depth : 트리의 최대 깊이 [default : -1]\n",
    "* bagging_fraction(subsample) : 개별 트리에 사용할 데이터 샘플링 비율 [default : not 0]\n",
    "    * g\n",
    "* feature_fraction(colsample_bytree) : 트리 훈련에 사용하는 피쳐 샘플링 비율 [default : ]\n",
    "    * g\n",
    "* lambda_l1(reg_alpha) : L1(lasso) 규제 값 [default : 0]\n",
    "* lambda_l2(reg_lambda) : L2(Ridge) 규제 값 [default : 0]\n",
    "* min_child_samples : leaf node가 되기위한 최소 데이터 수 [default : 20]\n",
    "* min_child_weight : 과적합 방지 값 [default : $1e^{-3}$, 0~$\\infty$]\n",
    "* bagging_freq : 배깅 수행 빈도 [default : 0]\n",
    "    * 몇번의 iter 마다 배깅을 할지 결정\n",
    "* force_row_wise : 메모리 효율 증가 [default : False, True]\n",
    "\n",
    "for train() method\n",
    "* params : dict type 하이퍼 파라미터 목록\n",
    "* train_set : 훈련 데이터셋\n",
    "* num_boost_round : 부스팅 반복 횟수 [default : 10]\n",
    "    * 성능, 과적합, 시간의 상관관계가 있음\n",
    "* valid_sets : 검증용 데이터 셋 [default : None]\n",
    "* feval : 검증용 평가지표 evals사용시 활용 [default : None]\n",
    "* categorical_feature : 범주형 데이터 지정옵션\n",
    "* early_stopping_rounds : 조기종료 옵션 [default : None, int]\n",
    "    * eta가 크면 줄이고 작으면 키움\n",
    "    * evals가 필요함\n",
    "    * 옵션의 숫자만큼 반복하고 다음번으로 반복한 결과와 비교해 성능이 감소하면 종료\n",
    "* verbose_eval : 성능 점수 로그 설정 [default : True, False, int]\n",
    "    * 설정된 횟수만큼 반복후 성능지표를 보여줌"
   ]
  },
  {
   "cell_type": "markdown",
   "metadata": {},
   "source": [
    "# XGBoot와 LightGBM의 강점  \n",
    "\n",
    "1. 피처 스케일링이 따로 필요없다. 데이터의 절대적인 크기보다는 대소 관계에 영향을 받기 때문이다.  \n",
    "2. 레이블 인코딩을 적용해도 된다. 레이블 인코딩은 단점이 있다고 했지만, 트리 기반 모델의 특성상 분기르 ㄹ거릅하면서 레이블 인코딩된 피처에서도 정보를 잘 추출할 수 있기 때문이다.  \n",
    "3. 결측값을 알아서 처리해준다. (그럼에도 더 명확하게 하려면 결측값을 별도로 처리하는 습관을 들이는게 바람직하다.)  \n",
    "단, 선형모델은 피처 스케일링, 결측값 처리, 원-핫 인코딩을 해줘야 일반적으로 성능이 좋아진다. "
   ]
  },
  {
   "cell_type": "markdown",
   "metadata": {},
   "source": [
    "# 사이킷런 래퍼 모듈 vs. 파이썬 래퍼 모듈  \n",
    "사이킷런은 XGBoost와 LightGBM을 비롯해 여러 모델을 지원한다. 다음 표에 사이킷런 패러 모듈과 파이썬 래퍼 모듈 사용범의 차이를 정리했다. \n",
    "\n",
    "|구분|사이킷런 래퍼 모델 | 파이썬 래퍼 모듈|\n",
    "|--|--|--|\n",
    "|모델 생성|모델이 워낙 많다보니 클래스 활용,<br> 예) LogisticRegression(),  XGBRegressor(),  LGBMClassifier() | 별도로 모델을 생성하지 않고, 임포트한 xgboost 혹은 lightgmb을 그대로 사용 <br> 예) import xgboost <br> import lightgbm |\n",
    "|데이터셋| 별도로 데이터셋을 생성하지 않고 원본 데이터(배열, DataFrame 등의 타입)를 그대로 사용 | 별로 데이터셋을 생성 <br> XGBoot는 DMatrixi 객체 활용, LightGBM은 Dataset 객체 활용 <br> 예) xgboost.DMatrix() <bar> lightgbm.Dataset() |\n",
    "|모델 훈련| 생성한 모델 객체의 fit() 메서드를 호출 | 임포트한 xgboost 혹은 lightgbm 모듈을 바로 사용해서 train() 메서드 호출|\n",
    "|예측 | 생성한 모델 객체의 predict() 혹은 predict_proba() 메서드로 예측 | predict() 메서드로 예측|\n",
    "|하이퍼 파라미터 입력 방식| 모델 하이퍼 파라미터는 모델 생성 시 입력하고, 훈련 하이퍼 파라미터는 fit() 메서드에 입력| 모두 train() 메서드에 입력 <br> 모델 하이퍼 파라미터는 train()의 params 파라미터에 일괄 입력|\n"
   ]
  },
  {
   "cell_type": "markdown",
   "metadata": {},
   "source": [
    "<a name=\"하이퍼-파라미터-최적화\"></a>\n",
    "# 하이퍼 파라미터 최적화  \n",
    "최적의 파라미터를 찾아가는 방법  \n",
    "하이퍼 파라미터를 요리에 비유하면서 설명했다. 레시피가 있지만, 매운맛을 좋아하는 사람은 고추장을 더 넣거나 싱겁게 먹는 사람은 소금을 덜 넣거나 한다. 이와 같이 모델에서도 분석자가 입력하는 데이터의 의미를 파악하면서 하이퍼 파라미터의 최적화를 수행한다.  \n",
    "대표적으로 그리드서치, 랜덤서치, 베이지안 최적화 이렇게 볼 수 있다.  "
   ]
  },
  {
   "cell_type": "markdown",
   "metadata": {},
   "source": [
    "<a name=\"그리드서치\"></a>\n",
    "## 그리드서치  \n",
    "모든 경우의 수를 탐색하는 방식이다. 그래서 많은 시간이 필요한게 단점이다. "
   ]
  },
  {
   "cell_type": "markdown",
   "metadata": {},
   "source": [
    "<a name=\"랜덤서치\"></a>\n",
    "## 랜덤서치(random search)  \n",
    "하이퍼 파라미터를 무작위로 추출하여 최적의 파라미터를 찾아가는 방법이다. 무작위라는 한계 때문에 사용빈도가 떨어진다.  \n"
   ]
  },
  {
   "cell_type": "markdown",
   "metadata": {},
   "source": [
    "<a name=\"베이지안-최적화\"></a>\n",
    "## 베이지안 최적화(bayesian optimization)  \n",
    "`bayes_opt`라는 패키지로 베이지안 최적화를 구현  \n",
    "수행 절차는 다음과 같다.  \n",
    "1. 하이퍼 파라미터 탐색 범위 설정  \n",
    "    ```python\n",
    "    # 하이퍼 파라미터 범위(딕셔너리 형태)\n",
    "    param_bounds = {'x': (-1, 5),\n",
    "                    'y': (0,  4)}\n",
    "    ```\n",
    "2. 평가지표 계산 함수(성능 평가 함수) 정의  \n",
    "    ```python\n",
    "    # 예시\n",
    "    def eval_function(x,y):\n",
    "        return -x ** 2 - ( - 2) ** 2 + 10\n",
    "    ```\n",
    "3. Bayesian Optimization 객체 생성 : bayes_opt 패키지의 `BayesianOptimization` 객체를 생성한다. 객체 생성 시 **평가지표 계산 함수**와 **하이퍼 파라미터 탐색 범위**를 전달 받는다.  \n",
    "    ```python\n",
    "    from bayes_opt import BayesianOptimization\n",
    "    # 베이지안 최적화 객체 생성\n",
    "    optimizer = BayesianOptimization(f=eval_function,\n",
    "                                       pbounds=param_bounds,\n",
    "                                       random_state=0)\n",
    "    ```\n",
    "4. 베이지안 최적화 수행 : 3번에서 생성한 BayesinOptimization 객체의 maximize() 메서드를 호출한다. 하이퍼 파라미터 범위 내에서 평가 지표를 계산한 평가 지표가 가장 좋은 하이퍼 파라미터를 최적이라고 판단한다.  \n",
    "    * init_points : 랜덤 탐색의 스텝 횟수\n",
    "    * n_iter : 베이지안 실행 횟수  \n",
    "    ```python\n",
    "        optimizer.maximize(init_points=2, n_iter=10)\n",
    "    ```"
   ]
  },
  {
   "cell_type": "code",
   "execution_count": null,
   "metadata": {},
   "outputs": [],
   "source": [
    "import xgboost as xgb\n",
    "\n",
    "param_bounds = {'max_depth': (4, 8),\n",
    "'subsample': (0.6, 0.9),\n",
    "'colsample_bytree': (0.7, 1.0),\n",
    "'min_child_weight': (5, 7),\n",
    "'gamma': (8, 11),\n",
    "'reg_alpha': (7, 9),\n",
    "'reg_lambda': (1.1, 1.5)}\n",
    "\n",
    "\n",
    "from sklearn.metrics import roc_auc_score\n",
    "\n",
    "def eval_function(max_depth, subsample, colsample_bytree, min_child_weight, gamma, reg_alpha, reg_lambda):\n",
    "  param_bounds = {'max_depth': max_depth,\n",
    "                  'subsample': subsample,\n",
    "                  'colsample_bytree': colsample_bytree,\n",
    "                  'min_child_weight': min_child_weight,\n",
    "                  'gamma': gamma,\n",
    "                  'reg_alpha': reg_alpha,\n",
    "                  'reg_lambda': reg_lambda}\n",
    "  xgb_model = xgb.train(params=params, dtrain=train, num_boost_round=2000, evals=[(valid, 'valid')], maximize=True, early_stopping_round=200)\n",
    "  best_iter = xgb_model.best_iteration\n",
    "  preds = xgb_model.predict(valid, iteration_range=(0, best_iter))\n",
    "  score = roc_auc_score(y_valid, preds)\n",
    "\n",
    "  return score\n",
    "\n",
    "from bayes_opt import BayesianOptimization\n",
    "\n",
    "optimizer = BayesianOptimization(f=eval_function, pbounds=param_bounds)\n",
    "\n",
    "optimizer.maximize(init_points=3, n_iter=10)\n",
    "\n",
    "max_params = optimzier.max['params']"
   ]
  }
 ],
 "metadata": {
  "kernelspec": {
   "display_name": "Python 3.8.10 64-bit ('3.8.10')",
   "language": "python",
   "name": "python3"
  },
  "language_info": {
   "codemirror_mode": {
    "name": "ipython",
    "version": 3
   },
   "file_extension": ".py",
   "mimetype": "text/x-python",
   "name": "python",
   "nbconvert_exporter": "python",
   "pygments_lexer": "ipython3",
   "version": "3.11.4"
  },
  "orig_nbformat": 4,
  "vscode": {
   "interpreter": {
    "hash": "9b363c58d1093e891c4eaaf9273db69d0f7db3f9909d89c6197aa3afcc07f476"
   }
  }
 },
 "nbformat": 4,
 "nbformat_minor": 2
}
